{
 "cells": [
  {
   "cell_type": "code",
   "execution_count": 2,
   "id": "9760f60e-01d1-40e8-88d1-b468b4e37def",
   "metadata": {},
   "outputs": [
    {
     "name": "stdout",
     "output_type": "stream",
     "text": [
      "✓ Saved ukraine_final_jun-16.csv with 1769 rows\n"
     ]
    }
   ],
   "source": [
    "#!/usr/bin/env python3\n",
    "# ------------------------------------------------------------------\n",
    "#  geojson_to_csv.py   —  convert GeoJSON → CSV\n",
    "#  ------------------------------------------------------------------\n",
    "#  pip install geopandas shapely fiona pyproj\n",
    "#  ------------------------------------------------------------------\n",
    "\n",
    "import geopandas as gpd\n",
    "from pathlib import Path\n",
    "\n",
    "# ---- EDIT THESE TWO LINES ---------------------------------------\n",
    "SRC  = Path(\"/Users/ekowaddai/Documents/GitHub/Personal/Geojson/ukr-adm3.geojson\")   # your .geojson file\n",
    "DST  = Path(\"ukraine_final_jun-16.csv\")      # where the CSV will go\n",
    "# -----------------------------------------------------------------\n",
    "\n",
    "# 1) load the GeoJSON (GeoPandas auto-detects CRS)\n",
    "gdf = gpd.read_file(SRC)\n",
    "\n",
    "# 2) pick the fields you want in the CSV\n",
    "cols = [\n",
    "    \"ADM0_EN\",\n",
    "    \"ADM1_EN\",                # Oblast or similar\n",
    "    \"ADM2_EN\",                # Raion\n",
    "    \"ADM3_EN\",                # Hromada / settlement\n",
    "    # keep other props if you like:\n",
    "    # \"ADM1_PCODE\", \"Area_SQKM\", ...\n",
    "]\n",
    "\n",
    "# 3) optionally add geometry as WKT for spreadsheets / PostGIS import\n",
    "gdf[\"geometry_wkt\"] = gdf.geometry.apply(lambda g: g.wkt)\n",
    "\n",
    "# 4) write out the CSV\n",
    "gdf[cols + [\"geometry_wkt\"]].to_csv(DST, index=False, encoding=\"utf-8\")\n",
    "\n",
    "print(f\"✓ Saved {DST} with {len(gdf)} rows\")\n"
   ]
  },
  {
   "cell_type": "code",
   "execution_count": null,
   "id": "82fa3f22-03a2-42de-bc52-3d890493710e",
   "metadata": {},
   "outputs": [],
   "source": []
  }
 ],
 "metadata": {
  "kernelspec": {
   "display_name": "Python 3.13.3",
   "language": "python",
   "name": "python313"
  },
  "language_info": {
   "codemirror_mode": {
    "name": "ipython",
    "version": 3
   },
   "file_extension": ".py",
   "mimetype": "text/x-python",
   "name": "python",
   "nbconvert_exporter": "python",
   "pygments_lexer": "ipython3",
   "version": "3.13.3"
  }
 },
 "nbformat": 4,
 "nbformat_minor": 5
}
