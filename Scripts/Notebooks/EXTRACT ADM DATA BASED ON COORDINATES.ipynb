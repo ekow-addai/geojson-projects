{
 "cells": [
  {
   "cell_type": "code",
   "execution_count": 4,
   "id": "105f6ae4-06eb-4867-ac0b-c96566603c0b",
   "metadata": {},
   "outputs": [],
   "source": [
    "import geopandas as gpd\n",
    "import pandas as pd\n",
    "from shapely.geometry import Point\n",
    "\n",
    "# --- Step 1: Load the health facilities ---\n",
    "df = pd.read_csv(\"/Users/ekowaddai/Documents/GitHub/Personal/Geojson/UKRANIE_FACILITIES_JUN 9.csv\")  # must have 'latitude' and 'longitude' columns\n",
    "\n",
    "# Convert to GeoDataFrame\n",
    "gdf_points = gpd.GeoDataFrame(\n",
    "    df,\n",
    "    geometry=gpd.points_from_xy(df.longitude, df.latitude),\n",
    "    crs=\"EPSG:4326\"\n",
    ")\n",
    "\n",
    "# --- Step 2: Load admin boundary GeoJSONs ---\n",
    "gdf_adm1 = gpd.read_file(\"/Users/ekowaddai/Documents/GitHub/Personal/Geojson/geoBoundaries-UKR-ADM1.geojson\")  # Oblasts\n",
    "gdf_adm2 = gpd.read_file(\"/Users/ekowaddai/Documents/GitHub/Personal/Geojson/geoBoundaries-UKR-ADM2.geojson\")  # Raions\n",
    "\n",
    "# Ensure same CRS\n",
    "gdf_adm1 = gdf_adm1.to_crs(\"EPSG:4326\")\n",
    "gdf_adm2 = gdf_adm2.to_crs(\"EPSG:4326\")\n",
    "\n",
    "# Rename the name columns for clarity\n",
    "gdf_adm1 = gdf_adm1.rename(columns={\"shapeName\": \"ADM1\"})\n",
    "gdf_adm2 = gdf_adm2.rename(columns={\"shapeName\": \"ADM2\"})\n",
    "\n",
    "# --- Step 3: Spatial join ADM1 ---\n",
    "gdf_with_adm1 = gpd.sjoin(gdf_points, gdf_adm1[['ADM1', 'geometry']], how=\"left\", predicate=\"within\")\n",
    "\n",
    "# 🔧 Drop 'index_right' to avoid conflict in second join\n",
    "gdf_with_adm1 = gdf_with_adm1.drop(columns=['index_right'], errors='ignore')\n",
    "\n",
    "# --- Step 4: Spatial join ADM2 ---\n",
    "gdf_with_adm2 = gpd.sjoin(gdf_with_adm1, gdf_adm2[['ADM2', 'geometry']], how=\"left\", predicate=\"within\")\n",
    "\n",
    "# --- Step 5: Export final result ---\n",
    "result = gdf_with_adm2[['HEALTH_FACILITY_NAME', 'latitude', 'longitude', 'ADM1', 'ADM2']]\n",
    "result.to_csv(\"facilities_with_oblasts_and_raions.csv\", index=False)\n"
   ]
  },
  {
   "cell_type": "code",
   "execution_count": null,
   "id": "6d2d98e0-5ebb-4d64-b003-00e7879a9de4",
   "metadata": {},
   "outputs": [],
   "source": []
  },
  {
   "cell_type": "code",
   "execution_count": null,
   "id": "24a9b774-73c7-493e-b1af-f9d242157bcb",
   "metadata": {},
   "outputs": [],
   "source": []
  }
 ],
 "metadata": {
  "kernelspec": {
   "display_name": "Python 3.13.3",
   "language": "python",
   "name": "python313"
  },
  "language_info": {
   "codemirror_mode": {
    "name": "ipython",
    "version": 3
   },
   "file_extension": ".py",
   "mimetype": "text/x-python",
   "name": "python",
   "nbconvert_exporter": "python",
   "pygments_lexer": "ipython3",
   "version": "3.13.3"
  }
 },
 "nbformat": 4,
 "nbformat_minor": 5
}
