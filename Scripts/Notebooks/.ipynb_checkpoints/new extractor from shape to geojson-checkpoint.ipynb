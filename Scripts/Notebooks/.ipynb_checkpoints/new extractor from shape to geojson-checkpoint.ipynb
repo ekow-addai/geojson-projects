{
 "cells": [
  {
   "cell_type": "code",
   "execution_count": 1,
   "id": "3e2e580e-c750-436a-9fad-ed8b6063acde",
   "metadata": {},
   "outputs": [
    {
     "name": "stdout",
     "output_type": "stream",
     "text": [
      "✓ saved output.geojson\n"
     ]
    }
   ],
   "source": [
    "import geopandas as gpd\n",
    "\n",
    "# 1) read the shapefile  (GeoPandas auto-detects the .prj)\n",
    "gdf = gpd.read_file(\"/Users/ekowaddai/Documents/GitHub/Personal/Geojson/ukr_admbnd_sspe_20250131_ab_shp/ukr_admbnda_adm1_sspe_20240416.shp\")\n",
    "\n",
    "# 2) (optional) reproject to WGS-84 lat/lon\n",
    "gdf = gdf.to_crs(\"EPSG:4326\")\n",
    "\n",
    "# 3) write GeoJSON\n",
    "gdf.to_file(\"ukr-adm1.geojson\", driver=\"GeoJSON\")\n",
    "\n",
    "print(\"✓ saved output.geojson\")\n"
   ]
  },
  {
   "cell_type": "code",
   "execution_count": null,
   "id": "0eb5101b-69ee-464e-850f-3c2868750732",
   "metadata": {},
   "outputs": [],
   "source": []
  }
 ],
 "metadata": {
  "kernelspec": {
   "display_name": "Python 3.13.3",
   "language": "python",
   "name": "python313"
  },
  "language_info": {
   "codemirror_mode": {
    "name": "ipython",
    "version": 3
   },
   "file_extension": ".py",
   "mimetype": "text/x-python",
   "name": "python",
   "nbconvert_exporter": "python",
   "pygments_lexer": "ipython3",
   "version": "3.13.3"
  }
 },
 "nbformat": 4,
 "nbformat_minor": 5
}
