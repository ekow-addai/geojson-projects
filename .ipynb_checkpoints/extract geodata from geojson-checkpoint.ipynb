{
 "cells": [
  {
   "cell_type": "code",
   "execution_count": 3,
   "id": "c507d3c0-5787-4962-b81c-2ae68ae9274d",
   "metadata": {},
   "outputs": [
    {
     "name": "stdout",
     "output_type": "stream",
     "text": [
      "✅ Export complete: 'UA-HROMADA-geo_full.csv' and 'UA-HROMADA-geo_invalid_geometries.csv'\n"
     ]
    }
   ],
   "source": [
    "import fiona\n",
    "import pandas as pd\n",
    "from shapely.geometry import shape\n",
    "from shapely import wkt\n",
    "\n",
    "# Path to your GeoJSON file\n",
    "geojson_path = \"/Users/ekowaddai/Documents/GitHub/Personal/Geojson/geoBoundaries-UKR-ADM3.geojson\"\n",
    "\n",
    "# Read features using Fiona\n",
    "with fiona.open(geojson_path) as src:\n",
    "    features = list(src)\n",
    "\n",
    "# Extract data and validate\n",
    "records = []\n",
    "for feat in features:\n",
    "    name = feat[\"properties\"].get(\"shapeName\")\n",
    "    geom = shape(feat[\"geometry\"]) if feat[\"geometry\"] else None\n",
    "    geometry_wkt = geom.wkt if geom else None\n",
    "    is_valid_geom = geom.is_valid if geom else False\n",
    "\n",
    "    # Try reloading the WKT to simulate downstream wkt.loads\n",
    "    try:\n",
    "        _ = wkt.loads(geometry_wkt) if geometry_wkt else None\n",
    "        is_valid_wkt = True\n",
    "    except Exception:\n",
    "        is_valid_wkt = False\n",
    "        print(f\"❗ Invalid WKT geometry for: {name}\")\n",
    "\n",
    "    records.append({\n",
    "        \"shapeName\": name,\n",
    "        \"geometry_wkt\": geometry_wkt,\n",
    "        \"is_valid_geom\": is_valid_geom,\n",
    "        \"is_valid_wkt\": is_valid_wkt\n",
    "    })\n",
    "\n",
    "# Create DataFrame\n",
    "df = pd.DataFrame(records)\n",
    "\n",
    "# Export entire DataFrame\n",
    "df.to_csv(\"UA-HROMADA-geo2.csv\", index=False)\n",
    "\n",
    "# Export only invalid WKT geometries\n",
    "df[~df['is_valid_wkt']].to_csv(\"UA-HROMADA-geo.csv\", index=False)\n",
    "\n",
    "print(\"✅ Export complete: 'UA-HROMADA-geo_full.csv' and 'UA-HROMADA-geo_invalid_geometries.csv'\")\n"
   ]
  },
  {
   "cell_type": "code",
   "execution_count": 48,
   "id": "4a040811-1bd9-4abc-8d42-7acb14c4eb0c",
   "metadata": {},
   "outputs": [
    {
     "name": "stdout",
     "output_type": "stream",
     "text": [
      "❗ Found 0 invalid geometries.\n"
     ]
    },
    {
     "data": {
      "text/html": [
       "<div>\n",
       "<style scoped>\n",
       "    .dataframe tbody tr th:only-of-type {\n",
       "        vertical-align: middle;\n",
       "    }\n",
       "\n",
       "    .dataframe tbody tr th {\n",
       "        vertical-align: top;\n",
       "    }\n",
       "\n",
       "    .dataframe thead th {\n",
       "        text-align: right;\n",
       "    }\n",
       "</style>\n",
       "<table border=\"1\" class=\"dataframe\">\n",
       "  <thead>\n",
       "    <tr style=\"text-align: right;\">\n",
       "      <th></th>\n",
       "      <th>District</th>\n",
       "      <th>geometry_wkt</th>\n",
       "    </tr>\n",
       "  </thead>\n",
       "  <tbody>\n",
       "  </tbody>\n",
       "</table>\n",
       "</div>"
      ],
      "text/plain": [
       "Empty DataFrame\n",
       "Columns: [District, geometry_wkt]\n",
       "Index: []"
      ]
     },
     "execution_count": 48,
     "metadata": {},
     "output_type": "execute_result"
    }
   ],
   "source": [
    "import pandas as pd\n",
    "from shapely import wkt\n",
    "\n",
    "# Load your CSV file\n",
    "df = pd.read_csv('/Users/ekowaddai/Documents/GitHub/Geojson/merged_geoboundaries.csv')  # Replace with your actual filename\n",
    "\n",
    "# Define a test function\n",
    "def test_wkt_validity(wkt_str):\n",
    "    try:\n",
    "        geom = wkt.loads(wkt_str)\n",
    "        return geom.is_valid\n",
    "    except Exception:\n",
    "        return False\n",
    "\n",
    "# Apply the test to the geometry column\n",
    "df['is_valid_geometry'] = df['geometry_wkt'].astype(str).apply(test_wkt_validity)\n",
    "\n",
    "# Filter invalid rows\n",
    "invalid_rows = df[~df['is_valid_geometry']]\n",
    "\n",
    "# Output\n",
    "print(f\"❗ Found {len(invalid_rows)} invalid geometries.\")\n",
    "invalid_rows[['District','geometry_wkt']].head(300)\n",
    "\n",
    "# Optionally export the invalid rows\n",
    "# invalid_rows.to_csv('invalid_geometries.csv', index=False)\n"
   ]
  },
  {
   "cell_type": "code",
   "execution_count": null,
   "id": "0b7bc45b-2204-4d75-8bc7-98702b62f95c",
   "metadata": {},
   "outputs": [],
   "source": []
  }
 ],
 "metadata": {
  "kernelspec": {
   "display_name": "Python 3 (ipykernel)",
   "language": "python",
   "name": "python3"
  },
  "language_info": {
   "codemirror_mode": {
    "name": "ipython",
    "version": 3
   },
   "file_extension": ".py",
   "mimetype": "text/x-python",
   "name": "python",
   "nbconvert_exporter": "python",
   "pygments_lexer": "ipython3",
   "version": "3.9.6"
  }
 },
 "nbformat": 4,
 "nbformat_minor": 5
}
